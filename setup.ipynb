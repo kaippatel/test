{
 "cells": [
  {
   "cell_type": "code",
   "execution_count": null,
   "metadata": {
    "vscode": {
     "languageId": "plaintext"
    }
   },
   "outputs": [],
   "source": [
    "# Clone the repository\n",
    "!git clone https://github.com/kaippatel/test.git\n",
    "%cd test\n",
    "\n",
    "# Install dependencies\n",
    "%pip install -r /content/test/requirements.txt\n",
    "\n",
    "print(\"Setup complete!\")"
   ]
  },
  {
   "cell_type": "code",
   "execution_count": null,
   "metadata": {
    "vscode": {
     "languageId": "plaintext"
    }
   },
   "outputs": [],
   "source": [
    "# Clone the repository\n",
    "!git clone https://github.com/kaippatel/DMLS-LangChain-Workshop.git\n",
    "%cd DMLS-LangChain-Workshop\n",
    "\n",
    "# Install dependencies\n",
    "%pip install -r /content/DMLS-LangChain-Workshop/requirements.txt\n",
    "\n",
    "print(\"Setup complete!\")"
   ]
  }
 ],
 "metadata": {
  "language_info": {
   "name": "python"
  }
 },
 "nbformat": 4,
 "nbformat_minor": 2
}
